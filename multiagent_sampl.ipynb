{
 "cells": [
  {
   "cell_type": "code",
   "execution_count": 4,
   "id": "7aa450d6",
   "metadata": {},
   "outputs": [
    {
     "name": "stdout",
     "output_type": "stream",
     "text": [
      "Annotated image saved to skis_002849_annotated.jpg\n"
     ]
    }
   ],
   "source": [
    "import cv2\n",
    "\n",
    "# 후보 포인트 정의 (영어 라벨로 변경)\n",
    "candidates = [\n",
    "    {\"id\": 1, \"name\": \"Top Handle\", \"coords\": [740, 50]},\n",
    "    {\"id\": 2, \"name\": \"Middle Handle\", \"coords\": [740, 200]},\n",
    "    {\"id\": 3, \"name\": \"Bottom Handle\", \"coords\": [740, 350]},\n",
    "    {\"id\": 4, \"name\": \"Left Binder\", \"coords\": [200, 420]},\n",
    "    {\"id\": 5, \"name\": \"Right Binder\", \"coords\": [1280, 420]},\n",
    "    {\"id\": 6, \"name\": \"Ski Center\", \"coords\": [740, 250]},\n",
    "    {\"id\": 7, \"name\": \"Above Tigger Head\", \"coords\": [740, 100]},\n",
    "    {\"id\": 8, \"name\": \"Tigger Body\", \"coords\": [740, 200]},\n",
    "    {\"id\": 9, \"name\": \"Top Left Edge\", \"coords\": [100, 50]},\n",
    "    {\"id\": 10, \"name\": \"Top Right Edge\", \"coords\": [1380, 50]},\n",
    "    {\"id\": 11, \"name\": \"Bottom Left Edge\", \"coords\": [100, 400]},\n",
    "    {\"id\": 12, \"name\": \"Bottom Right Edge\", \"coords\": [1380, 400]}\n",
    "]\n",
    "\n",
    "# 이미지 불러오기\n",
    "img_path = \"/home/DATA/AGD20K/Seen/testset/egocentric/jump/skis/skis_002849.jpg\"\n",
    "img = cv2.imread(img_path)\n",
    "\n",
    "# 이미지에 포인트와 이름 표시\n",
    "for c in candidates:\n",
    "    x, y = c[\"coords\"]\n",
    "    # 빨간 점\n",
    "    cv2.circle(img, (x, y), radius=8, color=(0, 0, 255), thickness=-1)\n",
    "    # 영어 라벨, 작은 글자, 검정색\n",
    "    cv2.putText(\n",
    "        img,\n",
    "        f\"{c['id']}: {c['name']}\",\n",
    "        (x + 10, y - 10),\n",
    "        cv2.FONT_HERSHEY_SIMPLEX,\n",
    "        0.5,              # 작은 크기\n",
    "        (0, 0, 0),        # 검정색\n",
    "        1,                # 얇은 두께\n",
    "        cv2.LINE_AA\n",
    "    )\n",
    "\n",
    "# 저장\n",
    "out_path = \"skis_002849_annotated.jpg\"\n",
    "cv2.imwrite(out_path, img)\n",
    "print(f\"Annotated image saved to {out_path}\")\n"
   ]
  }
 ],
 "metadata": {
  "kernelspec": {
   "display_name": "qwen25",
   "language": "python",
   "name": "python3"
  },
  "language_info": {
   "codemirror_mode": {
    "name": "ipython",
    "version": 3
   },
   "file_extension": ".py",
   "mimetype": "text/x-python",
   "name": "python",
   "nbconvert_exporter": "python",
   "pygments_lexer": "ipython3",
   "version": "3.9.21"
  }
 },
 "nbformat": 4,
 "nbformat_minor": 5
}
