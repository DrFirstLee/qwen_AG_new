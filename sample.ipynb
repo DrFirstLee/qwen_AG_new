{
 "cells": [
  {
   "cell_type": "code",
   "execution_count": 2,
   "id": "ccef783c",
   "metadata": {},
   "outputs": [
    {
     "name": "stderr",
     "output_type": "stream",
     "text": [
      "/home/bongo/anaconda3/envs/qwen25/lib/python3.9/site-packages/tqdm/auto.py:21: TqdmWarning: IProgress not found. Please update jupyter and ipywidgets. See https://ipywidgets.readthedocs.io/en/stable/user_install.html\n",
      "  from .autonotebook import tqdm as notebook_tqdm\n"
     ]
    }
   ],
   "source": [
    "import os\n",
    "import torch\n",
    "import random\n",
    "from PIL import Image\n",
    "import my_prompt4 as my_prompt\n",
    "from file_managing import (\n",
    "    load_selected_samples,\n",
    "    get_actual_path,\n",
    "    get_gt_path,\n",
    ")\n",
    "from config import AGD20K_PATH, model_name\n",
    "from VLM_model_dot import QwenVLModel, MetricsTracker\n",
    "import os\n",
    "os.environ[\"PYTORCH_CUDA_ALLOC_CONF\"] = \"expandable_segments:True\"\n",
    "os.environ[\"PYTORCH_ENABLE_SDPA\"] = \"1\"\n"
   ]
  },
  {
   "cell_type": "code",
   "execution_count": 3,
   "id": "3338eb11",
   "metadata": {},
   "outputs": [],
   "source": [
    "\n",
    "\n",
    "def affordance_grounding(model, action, object_name, image_path, gt_path, exo_path=None, exo_type=None, failed_heatmap_path=None, validation_reason=None):\n",
    "    \"\"\"\n",
    "    Process each image using Qwen VL model\n",
    "    \"\"\"\n",
    "    # print(f\"Processing image: Action: {action}, Object: {object_name}, Image path: {image_path.split('/')[-1]}, GT path: {gt_path.split('/')[-1]}, Image exists: {os.path.exists(image_path)}, GT exists: {os.path.exists(gt_path)}\")\n",
    "    \n",
    "\n",
    "    if exo_path is None:\n",
    "        prompt = my_prompt.process_image_ego_prompt(action, object_name)\n",
    "               \n",
    "        results = model.process_image_ego(image_path, prompt, gt_path, action, exo_type)\n",
    "\n",
    "        \n",
    "    else:\n",
    "        if failed_heatmap_path is not None:\n",
    "            # When we have a failed heatmap, include it in the prompt for better context\n",
    "            \n",
    "            prompt = my_prompt.process_image_exo_with_heatmap_prompt(action, object_name, validation_reason)\n",
    "        \n",
    "            results = model.process_image_exo_with_heatmap(image_path, prompt, gt_path, exo_path, failed_heatmap_path, action, exo_type)\n",
    "        else:\n",
    "            prompt = my_prompt.process_image_exo_prompt(action, object_name)\n",
    "            results = model.process_image_exo(image_path, prompt, gt_path, exo_path, action, exo_type)\n",
    "\n",
    "    return results"
   ]
  },
  {
   "cell_type": "code",
   "execution_count": null,
   "id": "e8778ea8",
   "metadata": {},
   "outputs": [],
   "source": []
  }
 ],
 "metadata": {
  "kernelspec": {
   "display_name": "qwen25",
   "language": "python",
   "name": "python3"
  },
  "language_info": {
   "codemirror_mode": {
    "name": "ipython",
    "version": 3
   },
   "file_extension": ".py",
   "mimetype": "text/x-python",
   "name": "python",
   "nbconvert_exporter": "python",
   "pygments_lexer": "ipython3",
   "version": "3.9.21"
  }
 },
 "nbformat": 4,
 "nbformat_minor": 5
}
